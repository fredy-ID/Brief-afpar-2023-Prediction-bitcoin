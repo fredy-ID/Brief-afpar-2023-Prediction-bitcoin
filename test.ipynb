{
 "cells": [
  {
   "cell_type": "code",
   "execution_count": 1,
   "metadata": {},
   "outputs": [
    {
     "ename": "ValueError",
     "evalue": "too many values to unpack (expected 2)",
     "output_type": "error",
     "traceback": [
      "\u001b[1;31m---------------------------------------------------------------------------\u001b[0m",
      "\u001b[1;31mValueError\u001b[0m                                Traceback (most recent call last)",
      "\u001b[1;32mc:\\Users\\fredd\\Documents\\GitDesktop\\BRIEF-2A\\test.ipynb Cell 1\u001b[0m in \u001b[0;36m<cell line: 7>\u001b[1;34m()\u001b[0m\n\u001b[0;32m      <a href='vscode-notebook-cell:/c%3A/Users/fredd/Documents/GitDesktop/BRIEF-2A/test.ipynb#W0sZmlsZQ%3D%3D?line=6'>7</a>\u001b[0m \u001b[39mwith\u001b[39;00m \u001b[39mopen\u001b[39m(\u001b[39m\"\u001b[39m\u001b[39mETH-EUR.csv\u001b[39m\u001b[39m\"\u001b[39m) \u001b[39mas\u001b[39;00m f:\n\u001b[0;32m      <a href='vscode-notebook-cell:/c%3A/Users/fredd/Documents/GitDesktop/BRIEF-2A/test.ipynb#W0sZmlsZQ%3D%3D?line=7'>8</a>\u001b[0m   \u001b[39mfor\u001b[39;00m line \u001b[39min\u001b[39;00m f:\n\u001b[1;32m----> <a href='vscode-notebook-cell:/c%3A/Users/fredd/Documents/GitDesktop/BRIEF-2A/test.ipynb#W0sZmlsZQ%3D%3D?line=8'>9</a>\u001b[0m     date, price \u001b[39m=\u001b[39m line\u001b[39m.\u001b[39mstrip()\u001b[39m.\u001b[39msplit(\u001b[39m\"\u001b[39m\u001b[39m,\u001b[39m\u001b[39m\"\u001b[39m)\n\u001b[0;32m     <a href='vscode-notebook-cell:/c%3A/Users/fredd/Documents/GitDesktop/BRIEF-2A/test.ipynb#W0sZmlsZQ%3D%3D?line=9'>10</a>\u001b[0m     X\u001b[39m.\u001b[39mappend(date)\n\u001b[0;32m     <a href='vscode-notebook-cell:/c%3A/Users/fredd/Documents/GitDesktop/BRIEF-2A/test.ipynb#W0sZmlsZQ%3D%3D?line=10'>11</a>\u001b[0m     y\u001b[39m.\u001b[39mappend(price)\n",
      "\u001b[1;31mValueError\u001b[0m: too many values to unpack (expected 2)"
     ]
    }
   ],
   "source": [
    "from sklearn.model_selection import train_test_split\n",
    "from sklearn.linear_model import LinearRegression\n",
    "\n",
    "# Charger les données de prix du Bitcoin\n",
    "X = []\n",
    "y = []\n",
    "with open(\"ETH-EUR.csv\") as f:\n",
    "  for line in f:\n",
    "    date, price = line.strip().split(\",\")\n",
    "    X.append(date)\n",
    "    y.append(price)\n",
    "\n",
    "# Séparer les données en un ensemble d'entraînement et un ensemble de test\n",
    "X_train, X_test, y_train, y_test = train_test_split(X, y, test_size=0.33, random_state=42)\n",
    "\n",
    "# Entraîner le modèle de régression linéaire sur l'ensemble d'entraînement\n",
    "model = LinearRegression()\n",
    "model.fit(X_train, y_train)\n",
    "\n",
    "# Faire une prédiction sur l'ensemble de test\n",
    "y_pred = model.predict(X_test)\n",
    "\n",
    "# Calculer l'erreur de prédiction\n",
    "error = y_test - y_pred\n",
    "\n",
    "# Afficher l'erreur de prédiction\n",
    "print(error)\n",
    "\n",
    "# Faire une prédiction sur de nouvelles données\n",
    "new_data = [\"2022-01-01\", \"2022-02-01\", \"2022-03-01\"]\n",
    "prediction = model.predict(new_data)\n",
    "\n",
    "# Afficher la prédiction\n",
    "print(prediction)"
   ]
  },
  {
   "cell_type": "code",
   "execution_count": null,
   "metadata": {},
   "outputs": [],
   "source": []
  }
 ],
 "metadata": {
  "kernelspec": {
   "display_name": "base",
   "language": "python",
   "name": "python3"
  },
  "language_info": {
   "codemirror_mode": {
    "name": "ipython",
    "version": 3
   },
   "file_extension": ".py",
   "mimetype": "text/x-python",
   "name": "python",
   "nbconvert_exporter": "python",
   "pygments_lexer": "ipython3",
   "version": "3.9.16 (main, Jan 11 2023, 16:16:36) [MSC v.1916 64 bit (AMD64)]"
  },
  "orig_nbformat": 4,
  "vscode": {
   "interpreter": {
    "hash": "3956b2a6fb40cc38024d73b72ef02caf6b42c4a14595df6abbed1d136adaad88"
   }
  }
 },
 "nbformat": 4,
 "nbformat_minor": 2
}
