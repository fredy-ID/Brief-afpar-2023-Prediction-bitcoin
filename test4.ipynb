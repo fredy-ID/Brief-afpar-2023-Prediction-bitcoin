{
 "cells": [
  {
   "attachments": {},
   "cell_type": "markdown",
   "metadata": {},
   "source": [
    "# Il y a moyen d'aller plus loins avec le Reinforcement Learning, en particulier avec le Deep Reinforcement Learning. Mais je suis raisonnable et je ne me lance pas dans l'aventure avoir d'avoir maîtrisé le Machine Learning en particulier le Deep Learning"
   ]
  }
 ],
 "metadata": {
  "kernelspec": {
   "display_name": "base",
   "language": "python",
   "name": "python3"
  },
  "language_info": {
   "name": "python",
   "version": "3.9.13 (main, Aug 25 2022, 23:51:50) [MSC v.1916 64 bit (AMD64)]"
  },
  "orig_nbformat": 4,
  "vscode": {
   "interpreter": {
    "hash": "3956b2a6fb40cc38024d73b72ef02caf6b42c4a14595df6abbed1d136adaad88"
   }
  }
 },
 "nbformat": 4,
 "nbformat_minor": 2
}
